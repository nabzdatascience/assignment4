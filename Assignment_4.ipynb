{
 "cells": [
  {
   "cell_type": "markdown",
   "id": "344213e5",
   "metadata": {},
   "source": [
    "Ans 1: [] indicates empty list containing no items."
   ]
  },
  {
   "cell_type": "code",
   "execution_count": 1,
   "id": "691ed565",
   "metadata": {},
   "outputs": [
    {
     "data": {
      "text/plain": [
       "[2, 4, 'Hello', 8, 10]"
      ]
     },
     "execution_count": 1,
     "metadata": {},
     "output_type": "execute_result"
    }
   ],
   "source": [
    "#Ans 2:\n",
    "spam=[2,4,6,8,10]\n",
    "spam[2]='Hello'\n",
    "spam"
   ]
  },
  {
   "cell_type": "markdown",
   "id": "ca41423a",
   "metadata": {},
   "source": [
    "Ans 3:'d' because spam[int(int('3'*2/11)] evaluates to 3.\n",
    "\n"
   ]
  },
  {
   "cell_type": "markdown",
   "id": "47c7b645",
   "metadata": {},
   "source": [
    "\n",
    "#Ans 4:'d'\n",
    "\n"
   ]
  },
  {
   "cell_type": "markdown",
   "id": "776bebb7",
   "metadata": {},
   "source": [
    "Ans 5:['a','b']\n"
   ]
  },
  {
   "cell_type": "markdown",
   "id": "8d2a8729",
   "metadata": {},
   "source": [
    "Ans6: 1 as the index() returns just the index of the first occurence of the item in the list if the same item occurs\n",
    "    multiple times in the list.\n"
   ]
  },
  {
   "cell_type": "markdown",
   "id": "76b189ec",
   "metadata": {},
   "source": [
    "Ans 7:[3.14,'cat',11,'cat',True,99]\n",
    "as append() always appends the new value to the end of the list\n"
   ]
  },
  {
   "cell_type": "markdown",
   "id": "9b8b9cc2",
   "metadata": {},
   "source": [
    "Ans 8: [3.14,11,'cat',True]\n",
    "as remove() will remove the item that appears first in the list if that particular item appears multiple times in the list"
   ]
  },
  {
   "cell_type": "markdown",
   "id": "99217ab4",
   "metadata": {},
   "source": [
    "Ans 9:List concatenation operator is '+' and the List replication operator is '*'"
   ]
  },
  {
   "cell_type": "markdown",
   "id": "6a4bc52f",
   "metadata": {},
   "source": [
    "Ans 10: append() will add item only to the end of the list while insert() will insert item anywhere in the list."
   ]
  },
  {
   "cell_type": "markdown",
   "id": "08e4e39b",
   "metadata": {},
   "source": [
    "Ans11: The two methods of removing items from a list are pop() and remove()\n"
   ]
  },
  {
   "cell_type": "markdown",
   "id": "80ad6e1d",
   "metadata": {},
   "source": [
    "Ans 12: List and String are both ordered sequences of values. Essentially, a list can be defined as a sequential collection of values called elements and a string may be considered as a sequential collection of characters.A string can be considered as a list of characters."
   ]
  },
  {
   "cell_type": "markdown",
   "id": "eaba22ec",
   "metadata": {},
   "source": [
    "Ans 13:\n",
    "The differences between lists and tuples are\n",
    "1. List are mutable while tuples are not.\n",
    "2. List are represented by square brackets[] while tuples are represented by ().\n",
    "3. Lists consume more memory while tuples consume less memory.\n",
    "4. Lists have more number of in-built functions but tuples have less number of in-built functions.\n",
    "5. Iterations through list takes more time than iterations through tuples.\n",
    "6. Unexpected changes and errors are very common in lists as compared to the tuples."
   ]
  },
  {
   "cell_type": "markdown",
   "id": "6efe78da",
   "metadata": {},
   "source": [
    "Ans 14: a=(42,)"
   ]
  },
  {
   "cell_type": "code",
   "execution_count": 39,
   "id": "24baa5eb",
   "metadata": {},
   "outputs": [
    {
     "data": {
      "text/plain": [
       "(3.14, 'cat', 11, 'cat', True)"
      ]
     },
     "execution_count": 39,
     "metadata": {},
     "output_type": "execute_result"
    }
   ],
   "source": [
    "#Ans15:list value's tuple form\n",
    "bacon=[3.14,'cat',11,'cat',True]\n",
    "a=tuple(bacon)\n",
    "a"
   ]
  },
  {
   "cell_type": "code",
   "execution_count": 40,
   "id": "a1c79be1",
   "metadata": {},
   "outputs": [
    {
     "data": {
      "text/plain": [
       "(3.14, 'cat', 11, 'cat', True)"
      ]
     },
     "execution_count": 40,
     "metadata": {},
     "output_type": "execute_result"
    }
   ],
   "source": [
    "a"
   ]
  },
  {
   "cell_type": "code",
   "execution_count": 41,
   "id": "95af6de3",
   "metadata": {},
   "outputs": [
    {
     "data": {
      "text/plain": [
       "[3.14, 'cat', 11, 'cat', True]"
      ]
     },
     "execution_count": 41,
     "metadata": {},
     "output_type": "execute_result"
    }
   ],
   "source": [
    "\n",
    "#Ans 15 tuple valu's list form\n",
    "list(a)"
   ]
  },
  {
   "cell_type": "markdown",
   "id": "c3332255",
   "metadata": {},
   "source": [
    "Ans 16 Variables that contain list values are called list index.For example:\n",
    "l=[1,2,3,6,8]\n",
    "l[2]=3\n"
   ]
  },
  {
   "cell_type": "markdown",
   "id": "ea11ead8",
   "metadata": {},
   "source": [
    "#Ans 17\n",
    "copy() returns a shallow copy of a list and deepcopy() returns a deep copy of the list.\n",
    "In case of shallow copy ,any changes made to the copy of object will be reflected in the original object. But in case of deepcopy, the changes will not be reflected in the original copy."
   ]
  }
 ],
 "metadata": {
  "kernelspec": {
   "display_name": "Python 3 (ipykernel)",
   "language": "python",
   "name": "python3"
  },
  "language_info": {
   "codemirror_mode": {
    "name": "ipython",
    "version": 3
   },
   "file_extension": ".py",
   "mimetype": "text/x-python",
   "name": "python",
   "nbconvert_exporter": "python",
   "pygments_lexer": "ipython3",
   "version": "3.9.7"
  }
 },
 "nbformat": 4,
 "nbformat_minor": 5
}
